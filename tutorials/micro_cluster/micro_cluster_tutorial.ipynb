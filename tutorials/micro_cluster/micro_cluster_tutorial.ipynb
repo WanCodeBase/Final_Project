{
 "cells": [
  {
   "cell_type": "markdown",
   "id": "1609d30f-e801-4811-b8e2-5c57b4449419",
   "metadata": {},
   "source": [
    "# Slurm Simulator: Micro Cluster Tutorial\n",
    "\n",
    "This tutorial uses R for analysis within Python Jupyter Session using rpy2 and `%%R` magic.\n",
    "We might work on pure Python version in the future.\n",
    "The tutorial also uses `%%bash` magic to run shell commands.\n",
    "\n",
    "The cells started with `%%bash` will be executed by `bash`, with `%%R` by `R` and without any `%%` by `Python`."
   ]
  },
  {
   "cell_type": "code",
   "execution_count": 1,
   "id": "ff0a5ba4-2d07-4ad0-8447-ca511e4720b7",
   "metadata": {
    "scrolled": true
   },
   "outputs": [],
   "source": [
    "# load rpy2 to mix python and R, add htmlwidget display to plot plotly from %%R\n",
    "%reload_ext rpy2.ipython\n",
    "from rpy2_ipython_display import htmlwidget"
   ]
  },
  {
   "cell_type": "code",
   "execution_count": 2,
   "id": "560c7dea-7241-4358-be6e-5036af171e20",
   "metadata": {},
   "outputs": [
    {
     "name": "stdout",
     "output_type": "stream",
     "text": [
      "── Attaching core tidyverse packages ──────────────────────── tidyverse 2.0.0 ──\n",
      "✔ dplyr     1.1.3     ✔ readr     2.1.4\n",
      "✔ forcats   1.0.0     ✔ stringr   1.5.0\n",
      "✔ ggplot2   3.4.4     ✔ tibble    3.2.1\n",
      "✔ lubridate 1.9.3     ✔ tidyr     1.3.0\n",
      "✔ purrr     1.0.2     \n",
      "── Conflicts ────────────────────────────────────────── tidyverse_conflicts() ──\n",
      "✖ dplyr::filter() masks stats::filter()\n",
      "✖ dplyr::lag()    masks stats::lag()\n",
      "ℹ Use the conflicted package (<http://conflicted.r-lib.org/>) to force all conflicts to become errors\n"
     ]
    },
    {
     "name": "stderr",
     "output_type": "stream",
     "text": [
      "R[write to console]: \n",
      "Attaching package: ‘plotly’\n",
      "\n",
      "\n",
      "R[write to console]: The following object is masked from ‘package:ggplot2’:\n",
      "\n",
      "    last_plot\n",
      "\n",
      "\n",
      "R[write to console]: The following object is masked from ‘package:stats’:\n",
      "\n",
      "    filter\n",
      "\n",
      "\n",
      "R[write to console]: The following object is masked from ‘package:graphics’:\n",
      "\n",
      "    layout\n",
      "\n",
      "\n"
     ]
    }
   ],
   "source": [
    "%%R\n",
    "# Load R libraries (warnings on masking are ok)\n",
    "library(tidyverse)\n",
    "library(plotly)"
   ]
  },
  {
   "cell_type": "code",
   "execution_count": 4,
   "id": "81f9258f-2b60-4e9b-9616-74e0f1161be4",
   "metadata": {},
   "outputs": [
    {
     "name": "stdout",
     "output_type": "stream",
     "text": [
      "mysql      145    23  1 23:52 pts/0    00:00:00 /usr/sbin/mariadbd --basedir=/usr --datadir=/var/lib/mysql --plugin-dir=/usr/lib/mysql/plugin --user=mysql --skip-log-error --pid-file=/run/mysqld/mysqld.pid --socket=/run/mysqld/mysqld.sock\n",
      "slurm      456   453  0 23:53 ?        00:00:00 grep mariadbd\n"
     ]
    }
   ],
   "source": [
    "%%bash\n",
    "# Check that MySQL Server is up\n",
    "ps -Af | grep mariadbd "
   ]
  },
  {
   "cell_type": "markdown",
   "id": "28971efc-a8a2-4e1f-a83c-ba4d04f64e66",
   "metadata": {},
   "source": [
    "## Overview\n",
    "\n",
    "This tutorial will teach you how to run a Slurm Simulator using an example of a small 10-node Micro-Cluster.\n",
    "\n",
    "The tutorial will walk you through the Slurm simulation configuration.\n",
    "\n",
    "You will run two simulations with identical workloads but different timing between the start-up and first job to investigate scheduling stochasticity.\n",
    "\n",
    "Finally, you'll run ten independent simulations with the same workload and calculate statistics other than runs.\n",
    "\n",
    "The files needed for this tutorial are located at `slurm_sim_tools/tutorials/micro_cluster`.\n"
   ]
  },
  {
   "cell_type": "markdown",
   "id": "ecf02a6a-3e36-48a5-b6b7-67153ced4aca",
   "metadata": {},
   "source": [
    "## Micro-Cluster Description\n",
    "\n",
    "In this tutorial small model cluster, named Micro-Cluster, will be simulated. Micro-Cluster is created to test various aspects of the slurm simulator usage. It consists of 10 compute nodes (see Table below). There are two types of general compute nodes with different CPU types to test features request (constrains), one GPU node to test GRes and one big memory node to test proper allocation of jobs with  large memory requests.\n",
    "\n",
    "Table: Micro-Cluster compute nodes description\n",
    "\n",
    "Node Type | Node Name | Number of Cores | CPU Type | Memory Size | Number of GPUs\n",
    "----------|----------|-----------------|----------|-------------|----------------\n",
    "General Compute | n[1-4] | 12 | CPU-N | 48GiB | -\n",
    "General Compute | m[1-4] | 12 | CPU-M | 48GiB | -\n",
    "GPU node | g1 | 12 | CPU-G | 48GiB | 2\n",
    "Big memory | b1 | 12 | CPU-G | 512GiB | -\n",
    "\n",
    "The nodes are connected as follows:\n",
    "\n",
    "```\n",
    "Top Switch\n",
    " ├─IBN Switch\n",
    " │  ├─Node n1\n",
    " │  ├─Node n2\n",
    " │  ├─Node n3\n",
    " │  └─Node n4\n",
    " ├─IBM Switch\n",
    " │  ├─Node m1\n",
    " │  ├─Node m2\n",
    " │  ├─Node m3\n",
    " │  └─Node m4\n",
    " └─IBG Switch\n",
    "    ├─Node g1\n",
    "   `└─Node b1\n",
    "\n",
    "\n",
    "\n",
    "```\n"
   ]
  },
  {
   "cell_type": "markdown",
   "id": "60ea94f6-61a2-435c-9a33-7137640d14d0",
   "metadata": {},
   "source": [
    "## Slurm Simulation Configuration\n",
    "\n",
    "The UB Slurm Simulator is made from Slurm source code and so it shares many configurations with actual Slurm installation. In addition, you also need to specify that simulated users will submit to the simulated cluster and some simulation parameters.\n",
    "\n",
    "In order to run Slurm simulation you need:\n",
    "\n",
    "1. Adopt the Slurm configuration (`slurm.conf` and friends) for simulation\n",
    "    * Some options are not supported and files, typically used in slurm need to be renamed and point to user space.\n",
    "2. Set-up users and accounts: create `sacctmgr.script` and `user.sim`.\n",
    "3. Specify simulation parameters\n",
    "    * `sim.conf` some of parameters needed to be reset at run-time\n",
    "4. Create events file with workload specification (a.k.a. job-traces or events-list)."
   ]
  },
  {
   "cell_type": "code",
   "execution_count": 5,
   "id": "10234143-e92b-446c-819f-800cc9610e4a",
   "metadata": {},
   "outputs": [
    {
     "name": "stdout",
     "output_type": "stream",
     "text": [
      "gres.conf        sim.conf    slurm.conf     slurm.key      users.sim\n",
      "sacctmgr.script  slurm.cert  slurmdbd.conf  topology.conf\n"
     ]
    }
   ],
   "source": [
    "%ls etc"
   ]
  },
  {
   "cell_type": "markdown",
   "id": "0fc0a964-7144-4293-9855-dd7f7d02eb9b",
   "metadata": {},
   "source": [
    "### Adopting the Slurm Configuration for Simulation\n",
    "\n",
    "The simulator is built from Slurm code and uses regular Slurm configuration.\n",
    "\n",
    "In the `etc` directory, you can find several familiar Slurm configuration files: `slurm.conf`, `topology.conf`, `gres.conf` and `slurmdbd.conf`.\n",
    "\n",
    "When you start from the actual cluster configuration, \n",
    "some modifications are needed to point to different file system locations and disable \n",
    "some features which the simulator cannot work with.\n",
    "\n",
    "The files in this tutorial are already modified to be executed in simulator mode. \n",
    "In the following sub-section, we will list those changes.\n"
   ]
  },
  {
   "cell_type": "markdown",
   "id": "7b756968-c896-49ed-a156-16f70a3c6382",
   "metadata": {
    "jp-MarkdownHeadingCollapsed": true
   },
   "source": [
    "#### Changes in `slurm.conf`\n",
    "\n",
    "```ini\n",
    "# (optional) Different cluster name might be useful\n",
    "ClusterName=micro\n",
    "\n",
    "# Authentication is turned off\n",
    "AuthType=auth/none\n",
    "\n",
    "# This user will be used to run slurm simulator\n",
    "SlurmUser=slurm\n",
    "# (not needed) UB Slurm simulator does not use slurmd\n",
    "SlurmdUser=root\n",
    "# (not needed) This parameter is for Virtual Clusters (not used in Simulator)\n",
    "SlurmdParameters=config_overrides\n",
    "\n",
    "# Change Slurm control daemon address to localhost\n",
    "ControlMachine=localhost\n",
    "ControlAddr=localhost\n",
    "# Change Slurm Database daemon address to localhost\n",
    "AccountingStorageHost=localhost\n",
    "\n",
    "# Change file location\n",
    "JobCredentialPrivateKey=/home/slurm/work/micro_cluster/etc/slurm.key\n",
    "JobCredentialPublicCertificate=/home/slurm/work/micro_cluster/etc/slurm.cert\n",
    "SlurmSchedLogFile=/home/slurm/work/micro_cluster/log/sched.log\n",
    "SlurmctldLogFile=/home/slurm/work/micro_cluster/log/slurmctld.log\n",
    "SlurmdLogFile=/home/slurm/work/micro_cluster/log/slurmd.log\n",
    "SlurmdSpoolDir=/home/slurm/work/micro_cluster/var/spool\n",
    "StateSaveLocation=/home/slurm/work/micro_cluster/var/state\n",
    "JobCompLoc=/home/slurm/work/micro_cluster/log/jobcomp.log\n",
    "\n",
    "# Have to set it as simulator uses front-end mode\n",
    "FrontEndName=localhost\n",
    "```"
   ]
  },
  {
   "cell_type": "markdown",
   "id": "bbaa75cc-3bca-43c7-94fd-765acedb8a33",
   "metadata": {},
   "source": [
    "#### Changes in `slurmdbd.conf`\n",
    "\n",
    "```ini\n",
    "# Change Slurm Database daemon address to localhost\n",
    "DbdHost=localhost\n",
    "# Authentication is turned off\n",
    "AuthType=auth/none\n",
    "\n",
    "# Change file location\n",
    "PidFile=/home/slurm/work/micro_cluster/var/slurmdbd.pid\n",
    "LogFile=/home/slurm/work/micro_cluster/log/slurmdbd.log\n",
    "\n",
    "# Change mysql server address to localhost and accounts\n",
    "StorageHost=localhost\n",
    "StorageUser=slurm\n",
    "StoragePass=slurm\n",
    "# This user will be used to run slurm dbd\n",
    "SlurmUser=jovyan\n",
    "# (optional) database name in mysql to use\n",
    "StorageLoc=slurmdb_micro\n",
    "\n",
    "```\n",
    "\n",
    "#### Changes to `gres.conf`\n",
    "\n",
    "```ini\n",
    "# There is no actual hardware everything should be specified manually\n",
    "AutoDetect=off\n",
    "```\n",
    "\n",
    "#### Changes to `topology.conf`\n",
    "\n",
    "It should be fine as is.\n"
   ]
  },
  {
   "cell_type": "markdown",
   "id": "3e2ff80e-3a2b-463b-85f7-7a3163a589c9",
   "metadata": {
    "jp-MarkdownHeadingCollapsed": true
   },
   "source": [
    "### Set up Users, Accounts, QoS Specs\n",
    "Usually system administrator will create user and accounts on the HPC resource on per need base. \n",
    "In simulator, we need to create a file with simulated system usernames and a script for Slurm `sacctmgr` utility to initiate cluster QoS-es, users and accounts.\n",
    "\n",
    "#### System User names and Groups - `users.sim`\n",
    "\n",
    "`users.sim` fount in `etc` folder specify simulated system users and group names and ids. The file format is one line per user with colon (`:`) separated four fields:\n",
    "\n",
    "```\n",
    "<user named>:<user id>:<group name>:<group id>\n",
    "```\n",
    "\n",
    "The used `users.sim` file is as follows:\n",
    "\n",
    "```\n",
    "admin:1000:admin:1000\n",
    "user1:1001:group1:1001\n",
    "user2:1002:group2:1002\n",
    "user3:1003:group3:1003\n",
    "user4:1004:group2:1002\n",
    "user5:1005:group1:1001\n",
    "```\n",
    "\n",
    "#### Adding Users, Accounts and QoS - `sacctmgr.script`\n",
    "\n",
    "`sacctmgr.script` is a script which will be executed by `sacctmgr` before the simulation. It adds slurm users, accounts, QoS and all other things sys-admins will do with sacctmgr.\n",
    "\n",
    "Below is a listing of used `sacctmgr.script`:\n",
    "\n",
    "```shell\n",
    "# add/modify QOS\n",
    "modify QOS set normal Priority=0\n",
    "add QOS Name=supporters Priority=100\n",
    "# add cluster\n",
    "add cluster Name=micro Fairshare=1 QOS=normal,supporters\n",
    "# add accounts\n",
    "add account name=account0 Fairshare=100\n",
    "add account name=account1 Fairshare=100\n",
    "add account name=account2 Fairshare=100\n",
    "# add admin\n",
    "add user name=admin DefaultAccount=account0 MaxSubmitJobs=1000 AdminLevel=Administrator\n",
    "# add users\n",
    "add user name=user1 DefaultAccount=account1 MaxSubmitJobs=1000\n",
    "add user name=user2 DefaultAccount=account1 MaxSubmitJobs=1000\n",
    "add user name=user3 DefaultAccount=account1 MaxSubmitJobs=1000\n",
    "add user name=user4 DefaultAccount=account2 MaxSubmitJobs=1000\n",
    "add user name=user5 DefaultAccount=account2 MaxSubmitJobs=1000\n",
    "# add users to qos level\n",
    "modify user set qoslevel=\"normal,supporters\"\n",
    "\n",
    "# check results\n",
    "list associations format=Account,Cluster,User,Fairshare tree withd\n",
    "```\n",
    "\n",
    "The script starts with modification of `normal` QoS and adding new QoS, `priority`, with higher priority factor.\n",
    "\n",
    "Then, we add Slurm users and accounts. Slurm user names should match the system user names we specified at `users.sim`.\n",
    "\n",
    "Here we have 5 users (user1, user2, user3, user4, user5) grouped into 2 accounts (account1, account2). \n",
    "There is also an admin user with an associated account. We allowed all users to use both QoS-es.\n",
    "\n",
    "Finally, we printed created association (relationship between users and accounts)\n",
    "\n",
    "\n"
   ]
  },
  {
   "cell_type": "markdown",
   "id": "c8ae18e2-a570-402f-855d-8ffb1b9627e3",
   "metadata": {},
   "source": [
    "## Simulation Parameters\n",
    "\n",
    "In the etc directory, you can find several configuration files:\n",
    "\n",
    "```\n",
    "# Simulation Configuration\n",
    "\n",
    "## Unix time stamp for the simulated start time\n",
    "TimeStart = 1641013200.0\n",
    "## Unix time stamp for the simulated stop time, 0 - run till all jobs are finished\n",
    "TimeStop = 0\n",
    "## Time between simulator start and first job execution (can be overwritten by `slurmsim run_sim`)\n",
    "SecondsBeforeFirstJob = 126\n",
    "## CPU clock scaling\n",
    "ClockScaling = 1.0\n",
    "## Events File (can be overwritten by `slurmsim run_sim`)\n",
    "EventsFile = /home/slurm/work/micro_cluster/job_traces/jobs500_shrinked.events\n",
    "## Seconds after all events are done, -1 keep spinning time_after_all_events_done.\n",
    "TimeAfterAllEventsDone = 10\n",
    "\n",
    "## Some time delays to mimic start-up times of actual Slurm controller\n",
    "FirstJobDelay = -0.32\n",
    "CompJobDelay = 0.000\n",
    "TimeLimitDelay = 0.000\n",
    "```\n",
    "\n",
    "Some of these parameters can be overwritten from the command line"
   ]
  },
  {
   "cell_type": "markdown",
   "id": "c8a52d6c-4c14-4069-a90d-a85709ea90a4",
   "metadata": {},
   "source": [
    "## Workload Specification (events file, a.k.a. job traces)\n",
    "In `job_traces` you can find many files finished with `.events` extension, these are events list file which used to specify users activities on simulated cluster.\n",
    "\n",
    "Here is the listing of `small.events`:\n",
    "```\n",
    "-dt 0 -e submit_batch_job | -J jobid_1001 -sim-walltime 0 --uid=user5 -t 00:01:00 -n 12 --ntasks-per-node=12 -A account2 -p normal -q normal pseudo.job\n",
    "-dt 1 -e submit_batch_job | -J jobid_1002 -sim-walltime -1 --uid=user1 -t 00:01:00 -n 1 --ntasks-per-node=1 -A account1 -p normal -q normal --constraint=CPU-N pseudo.job\n",
    "-dt 2 -e submit_batch_job | -J jobid_1003 -sim-walltime 5 --uid=user4 -t 00:01:00 -n 1 --ntasks-per-node=1 -A account2 -p normal -q normal --mem=500000 pseudo.job\n",
    "-dt 16 -e submit_batch_job | -J jobid_1004 -sim-walltime 21 --uid=user3 -t 00:01:00 -n 24 --ntasks-per-node=12 -A account1 -p normal -q normal pseudo.job\n",
    "-dt 19 -e submit_batch_job | -J jobid_1005 -sim-walltime 2 --uid=user5 -t 00:01:00 -n 12 --ntasks-per-node=12 -A account2 -p normal -q normal --mem=500000 pseudo.job\n",
    "-dt 19 -e submit_batch_job | -J jobid_1006 -sim-walltime 9 --uid=user3 -t 00:01:00 -n 48 --ntasks-per-node=12 -A account1 -p normal -q normal pseudo.job\n",
    "-dt 19 -e submit_batch_job | -J jobid_1007 -sim-walltime -1 --uid=user4 -t 00:01:00 -n 24 --ntasks-per-node=12 -A account2 -p normal -q normal --constraint=CPU-M pseudo.job\n",
    "-dt 22 -e submit_batch_job | -J jobid_1008 -sim-walltime 0 --uid=user4 -t 00:01:00 -n 12 --ntasks-per-node=12 -A account2 -p normal -q normal --constraint=CPU-M pseudo.job\n",
    "-dt 26 -e submit_batch_job | -J jobid_1009 -sim-walltime 2 --uid=user1 -t 00:01:00 -n 96 --ntasks-per-node=12 -A account1 -p normal -q normal pseudo.job\n",
    "-dt 26 -e submit_batch_job | -J jobid_1010 -sim-walltime 0 --uid=user5 -t 00:01:00 -n 12 --ntasks-per-node=12 -A account2 -p normal -q normal --constraint=CPU-N pseudo.job\n",
    "-dt 29 -e submit_batch_job | -J jobid_1011 -sim-walltime 0 --uid=user4 -t 00:01:00 -n 1 --ntasks-per-node=1 -A account2 -p normal -q normal --gres=gpu:1 pseudo.job\n",
    "-dt 32 -e submit_batch_job | -J jobid_1012 -sim-walltime -1 --uid=user5 -t 00:01:00 -n 1 --ntasks-per-node=1 -A account2 -p normal -q normal pseudo.job\n",
    "-dt 36 -e submit_batch_job | -J jobid_1013 -sim-walltime 0 --uid=user2 -t 00:01:00 -n 1 --ntasks-per-node=1 -A account1 -p normal -q normal --mem=500000 pseudo.job\n",
    "-dt 36 -e submit_batch_job | -J jobid_1014 -sim-walltime 7 --uid=user5 -t 00:01:00 -n 24 --ntasks-per-node=12 -A account2 -p normal -q normal --constraint=CPU-N pseudo.job\n",
    "-dt 39 -e submit_batch_job | -J jobid_1015 -sim-walltime 18 --uid=user2 -t 00:01:00 -n 6 --ntasks-per-node=6 -A account1 -p normal -q normal pseudo.job\n",
    "-dt 40 -e submit_batch_job | -J jobid_1016 -sim-walltime 25 --uid=user1 -t 00:01:00 -n 2 --ntasks-per-node=2 -A account1 -p normal -q normal --gres=gpu:2 pseudo.job\n",
    "-dt 42 -e submit_batch_job | -J jobid_1017 -sim-walltime 1 --uid=user1 -t 00:01:00 -n 48 --ntasks-per-node=12 -A account1 -p normal -q normal --constraint=CPU-N pseudo.job\n",
    "-dt 42 -e submit_batch_job | -J jobid_1018 -sim-walltime 0 --uid=user3 -t 00:01:00 -n 12 --ntasks-per-node=12 -A account1 -p normal -q normal pseudo.job\n",
    "-dt 43 -e submit_batch_job | -J jobid_1019 -sim-walltime 34 --uid=user4 -t 00:01:00 -n 12 --ntasks-per-node=12 -A account2 -p normal -q normal --gres=gpu:2 pseudo.job\n",
    "-dt 43 -e submit_batch_job | -J jobid_1020 -sim-walltime 14 --uid=user1 -t 00:01:00 -n 1 --ntasks-per-node=1 -A account1 -p normal -q normal --constraint=CPU-N pseudo.job\n",
    "```\n",
    "\n",
    "Each line corresponds to a single event, the arguments till the first pipe symbol (`|`) correspond to event time and event type, and arguments after the pipe symbol (`|`) correspond to event parameters. For the user's job submission format, the arguments are just like you submit to the `sbatch` command (it is processed by the same function), there are some additional arguments and some normal `sbatch` arguments which have to follow certain format. Bellow is the format:\n",
    "\n",
    "```\n",
    "-dt <time to submit since the start of slurm controller> -e submit_batch_job | -J jobid_<jobid> -sim-walltime <walltime in seconds> --uid=<user> -t <requested time> -A <account> <Other Normal Slurm Arguments> pseudo.job\n",
    "```\n",
    "\n",
    "Here is a list of some often used `sbatch` arguments and simulator-augmented\n",
    "\n",
    "* `-J jobid_<jobid>`: `-J` is a normal Slurm argument to specify jobname,\n",
    "  we use it for results processing automation, so give all jobs names like `jobid_<jobid>`,\n",
    "  where `<jobid>` is numeric job-id. Some-times your simulation can be misconfigured and\n",
    "  automatically assigned numeric `job-id` can be misalligned.\n",
    "* `-sim-walltime <walltime in seconds>`: specify walltime for job to run. Value `0` means job have to be killed by Slurm due to running outside of time-limit.\n",
    "* `--uid=<user>`: it is a normal Slurm argument but we is it to specify which user submit job\n",
    "* `-t <requested time>`: it is a normal Slurm argument for time request\n",
    "* `-A <account>`: it is a normal Slurm argument for specifying which account to use\n",
    "* `<Other normal Slurm arguments>`:\n",
    "  *  `-n <nomber of noded>`\n",
    "  *  `--ntasks-per-node=<ntasks-per-node>`\n",
    "  *  `--gres=<gres request>`\n",
    "  *  `--constraint=<features request>`\n",
    "  * `--mem=<memory request>`\n",
    "  * Try other `sbatch` arguments, they might work as well\n",
    "* `pseudo.job`: should finished with script name, this also used in VC\n",
    "  \n",
    "\n"
   ]
  },
  {
   "cell_type": "code",
   "execution_count": 6,
   "id": "03dfbb35-f449-4406-87e3-9e2c0c8c4af3",
   "metadata": {},
   "outputs": [
    {
     "data": {
      "text/plain": [
       "'/home/slurm/work/micro_cluster'"
      ]
     },
     "execution_count": 6,
     "metadata": {},
     "output_type": "execute_result"
    }
   ],
   "source": [
    "%pwd"
   ]
  },
  {
   "cell_type": "markdown",
   "id": "bd1c8c7c-9114-44a6-a157-da3f879f506d",
   "metadata": {},
   "source": [
    "## Run First Simulations\n",
    "\n",
    "`slurmsim` is a utility for various Slurm simulation tasks. To run the simulation, we will use the `run_sim` subcommand."
   ]
  },
  {
   "cell_type": "code",
   "execution_count": 7,
   "id": "35946a32-505d-460d-800c-75446017afd0",
   "metadata": {},
   "outputs": [
    {
     "name": "stdout",
     "output_type": "stream",
     "text": [
      "Logger initialization\n",
      "[\u001B[1;92mINFO\u001B[1;0m] Note: NumExpr detected 16 cores but \"NUMEXPR_MAX_THREADS\" not set, so enforcing safe limit of 8.\n",
      "[\u001B[1;92mINFO\u001B[1;0m] NumExpr defaulting to 8 threads.\n",
      "usage: slurmsim run_sim [-h] -s SLURM -e ETC -t TRACE [-d] [-nc] [-nd]\n",
      "                        [-octld OCTLD] [-odbd ODBD] [-od OD]\n",
      "                        [-dtstart DTSTART] [-a ACCT_SETUP] [-rt RUN_TIME]\n",
      "                        [-r RESULTS] [-v]\n",
      "\n",
      "Run Slurm Simulation\n",
      "\n",
      "options:\n",
      "  -h, --help            show this help message and exit\n",
      "  -s SLURM, --slurm SLURM\n",
      "                        top directory of slurm installation. Default: /usr\n",
      "  -e ETC, --etc ETC     etc directory for current simulation. Default:\n",
      "                        /etc/slurm\n",
      "  -t TRACE, --trace TRACE\n",
      "                        job trace events file\n",
      "  -d, --delete          delete files from previous simulation\n",
      "  -nc, --no-slurmctld   do not start slurmctld\n",
      "  -nd, --no-slurmd      do not start slurmd\n",
      "  -octld OCTLD, --octld OCTLD\n",
      "                        redirect stdout and stderr of slurmctld to octrd\n",
      "  -odbd ODBD, --odbd ODBD\n",
      "                        redirect stdout and stderr of slurmdbd to odbd\n",
      "  -od OD, --od OD       redirect stdout and stderr of slurmd to od\n",
      "  -dtstart DTSTART, --dtstart DTSTART\n",
      "                        seconds before first job\n",
      "  -a ACCT_SETUP, --acct-setup ACCT_SETUP\n",
      "                        script for sacctmgr to setup accounts\n",
      "  -rt RUN_TIME, --run-time RUN_TIME\n",
      "                        total time for slurm to run in seconds, -1 run\n",
      "                        forever, 0 till last job is done, >0 seconds to run\n",
      "  -r RESULTS, --results RESULTS\n",
      "                        copy results to that directory\n",
      "  -v, --verbose         turn on verbose logging\n"
     ]
    }
   ],
   "source": [
    "%%bash\n",
    "slurmsim run_sim --help"
   ]
  },
  {
   "cell_type": "code",
   "execution_count": 34,
   "id": "4fb3334c-0301-4fcc-9989-0859fe9126ae",
   "metadata": {
    "scrolled": true
   },
   "outputs": [
    {
     "name": "stdout",
     "output_type": "stream",
     "text": [
      "Logger initialization\n",
      "[\u001B[1;92mINFO\u001B[1;0m] Note: NumExpr detected 16 cores but \"NUMEXPR_MAX_THREADS\" not set, so enforcing safe limit of 8.\n",
      "[\u001B[1;92mINFO\u001B[1;0m] NumExpr defaulting to 8 threads.\n",
      "[\u001B[1;92mINFO\u001B[1;0m] Read from /home/slurm/work/micro_cluster/job_traces/small.events 20 even ts\n",
      "[\u001B[1;92mINFO\u001B[1;0m] slurm.conf: /home/slurm/work/micro_cluster/etc/slurm.conf\n",
      "[\u001B[1;92mINFO\u001B[1;0m] slurmdbd: /opt/slurm_sim/sbin/slurmdbd\n",
      "[\u001B[1;92mINFO\u001B[1;0m] slurmd: /opt/slurm_sim/sbin/slurmd\n",
      "[\u001B[1;92mINFO\u001B[1;0m] slurmctld: /opt/slurm_sim/sbin/slurmctld\n",
      "[\u001B[1;92mINFO\u001B[1;0m] dropping db from previous runs\n",
      "DROP DATABASE IF EXISTS slurmdb_micro\n",
      "[\u001B[1;92mINFO\u001B[1;0m] deleting previous SlurmdbdLogFile file: /home/slurm/work/micro_cluster/log/slurmdbd.log\n",
      "[\u001B[1;92mINFO\u001B[1;0m] deleting previous SlurmdbdPidFile file: /home/slurm/work/micro_cluster/var/slurmdbd.pid\n",
      "[\u001B[1;92mINFO\u001B[1;0m] deleting previous results dir: /home/slurm/work/micro_cluster/results/slurmsimcont/test1/dtstart_59_1\n",
      "[\u001B[1;92mINFO\u001B[1;0m] Launching slurmdbd\n",
      "[\u001B[1;92mINFO\u001B[1;0m] Running sacctmgr script from /home/slurm/work/micro_cluster/etc/sacctmgr.script\n",
      "sacctmgr: sacctmgr:  Modified qos...\n",
      "  normal\n",
      "sacctmgr:  Adding QOS(s)\n",
      "  supporters\n",
      " Settings\n",
      "  Description    = supporters\n",
      "  Priority                 = 100\n",
      "sacctmgr: sacctmgr:  Adding Cluster(s)\n",
      "  Name           = micro\n",
      " Setting\n",
      "  Default Limits:\n",
      "  Fairshare     = 1\n",
      "  QOS           = normal,supporters\n",
      "sacctmgr: sacctmgr:  Adding Account(s)\n",
      "  account0\n",
      " Settings\n",
      "  Description     = Account Name\n",
      "  Organization    = Parent/Account Name\n",
      " Associations\n",
      "  A = account0   C = micro     \n",
      " Settings\n",
      "  Fairshare     = 100\n",
      "  Parent        = root\n",
      "sacctmgr:  Adding Account(s)\n",
      "  account1\n",
      " Settings\n",
      "  Description     = Account Name\n",
      "  Organization    = Parent/Account Name\n",
      " Associations\n",
      "  A = account1   C = micro     \n",
      " Settings\n",
      "  Fairshare     = 100\n",
      "  Parent        = root\n",
      "sacctmgr:  Adding Account(s)\n",
      "  account2\n",
      " Settings\n",
      "  Description     = Account Name\n",
      "  Organization    = Parent/Account Name\n",
      " Associations\n",
      "  A = account2   C = micro     \n",
      " Settings\n",
      "  Fairshare     = 100\n",
      "  Parent        = root\n",
      "sacctmgr: sacctmgr:  Adding User(s)\n",
      "  admin\n",
      " Settings =\n",
      "  Default Account = account0\n",
      "  Admin Level     = Administrator\n",
      " Associations =\n",
      "  U = admin     A = account0   C = micro     \n",
      " Non Default Settings\n",
      "  MaxSubmitJobs = 1000\n",
      "sacctmgr: sacctmgr:  Adding User(s)\n",
      "  user1\n",
      " Settings =\n",
      "  Default Account = account1\n",
      " Associations =\n",
      "  U = user1     A = account1   C = micro     \n",
      " Non Default Settings\n",
      "  MaxSubmitJobs = 1000\n",
      "sacctmgr:  Adding User(s)\n",
      "  user2\n",
      " Settings =\n",
      "  Default Account = account1\n",
      " Associations =\n",
      "  U = user2     A = account1   C = micro     \n",
      " Non Default Settings\n",
      "  MaxSubmitJobs = 1000\n",
      "sacctmgr:  Adding User(s)\n",
      "  user3\n",
      " Settings =\n",
      "  Default Account = account1\n",
      " Associations =\n",
      "  U = user3     A = account1   C = micro     \n",
      " Non Default Settings\n",
      "  MaxSubmitJobs = 1000\n",
      "sacctmgr:  Adding User(s)\n",
      "  user4\n",
      " Settings =\n",
      "  Default Account = account2\n",
      " Associations =\n",
      "  U = user4     A = account2   C = micro     \n",
      " Non Default Settings\n",
      "  MaxSubmitJobs = 1000\n",
      "sacctmgr:  Adding User(s)\n",
      "  user5\n",
      " Settings =\n",
      "  Default Account = account2\n",
      " Associations =\n",
      "  U = user5     A = account2   C = micro     \n",
      " Non Default Settings\n",
      "  MaxSubmitJobs = 1000\n",
      "sacctmgr: sacctmgr:  Modified user associations...\n",
      "  C = micro      A = account2             U = user5    \n",
      "  C = micro      A = account2             U = user4    \n",
      "  C = micro      A = account1             U = user3    \n",
      "  C = micro      A = account1             U = user2    \n",
      "  C = micro      A = account1             U = user1    \n",
      "  C = micro      A = account0             U = admin    \n",
      "  C = micro      A = root                 U = root     \n",
      "sacctmgr: sacctmgr: sacctmgr: Account                 Cluster       User     Share \n",
      "-------------------- ---------- ---------- --------- \n",
      "root                      micro                    1 \n",
      " root                     micro       root         1 \n",
      " account0                 micro                  100 \n",
      "  account0                micro      admin         1 \n",
      " account1                 micro                  100 \n",
      "  account1                micro      user1         1 \n",
      "  account1                micro      user2         1 \n",
      "  account1                micro      user3         1 \n",
      " account2                 micro                  100 \n",
      "  account2                micro      user4         1 \n",
      "  account2                micro      user5         1 \n",
      "sacctmgr: \n",
      "[\u001B[1;92mINFO\u001B[1;0m] Launching slurmctld\n",
      "['/opt/slurm_sim/sbin/slurmctld', '-e', '/home/slurm/work/micro_cluster/job_traces/small.events', '-dtstart', '59']\n",
      "[\u001B[1;92mINFO\u001B[1;0m] Current time 1710195098.9389296\n",
      "[\u001B[1;92mINFO\u001B[1;0m] slurmdbd_create_time=1710195077.55\n",
      "[\u001B[1;92mINFO\u001B[1;0m] slurmctld_create_time=1710195093.4\n",
      "[\u001B[1;92mINFO\u001B[1;0m] slurmd_create_time=1710195092.4\n",
      "[\u001B[1;92mINFO\u001B[1;0m] Starting job submittion\n",
      "[\u001B[1;92mINFO\u001B[1;0m] Monitoring slurmctld until completion\n",
      "[\u001B[1;92mINFO\u001B[1;0m] All jobs submitted wrapping up\n",
      "[\u001B[1;92mINFO\u001B[1;0m] slurmctld took 29.94379234313965 seconds to run.\n",
      "first_line [2022-01-01T05:00:15.848958] error: Unable to open pidfile `/var/run/slurmctld.pid': Permission denied\n",
      " 2022-01-01 05:00:15.848958 2022-01-01 05:00:15.848958\n",
      "last_line [2022-01-01T05:03:58.987084] All done.\n",
      " 2022-01-01 05:03:58.987084 2022-01-01 05:03:58.987084\n",
      "[\u001B[1;92mINFO\u001B[1;0m] Copying results to :/home/slurm/work/micro_cluster/results/slurmsimcont/test1/dtstart_59_1\n",
      "[\u001B[1;92mINFO\u001B[1;0m] copying resulting file /home/slurm/work/micro_cluster/log/jobcomp.log to /home/slurm/work/micro_cluster/results/slurmsimcont/test1/dtstart_59_1\n",
      "[\u001B[1;92mINFO\u001B[1;0m] copying resulting file /home/slurm/work/micro_cluster/log/slurmctld.log to /home/slurm/work/micro_cluster/results/slurmsimcont/test1/dtstart_59_1\n",
      "[\u001B[1;92mINFO\u001B[1;0m] copying resulting file /home/slurm/work/micro_cluster/log/sched.log to /home/slurm/work/micro_cluster/results/slurmsimcont/test1/dtstart_59_1\n",
      "[\u001B[1;37mDEBUG\u001B[1;0m] Submit time for first job: 2022-01-01 05:01:13.986388\n",
      "[\u001B[1;92mINFO\u001B[1;0m] Simulated time: 0:03:43.138126\n",
      "[\u001B[1;92mINFO\u001B[1;0m] Real time: 0:00:29.944198\n",
      "[\u001B[1;92mINFO\u001B[1;0m] Acceleration: 7.451798\n",
      "[\u001B[1;92mINFO\u001B[1;0m] Done\n"
     ]
    }
   ],
   "source": [
    "%%bash\n",
    "export SLURM_SIM_DIR=/opt/slurm_sim\n",
    "export CLUS_DIR=$(pwd)\n",
    "export MACHINE_NAME=\"slurmsimcont\"\n",
    "export RUN_NAME=\"test1\"\n",
    "export workload=${CLUS_DIR}/job_traces/small.events\n",
    "export dtstart=59\n",
    "export replica=1\n",
    "\n",
    "slurmsim -v run_sim  \\\n",
    "            -s $SLURM_SIM_DIR \\\n",
    "            -e ${CLUS_DIR}/etc \\\n",
    "            -a ${CLUS_DIR}/etc/sacctmgr.script \\\n",
    "            -t ${workload} \\\n",
    "            -octld ${CLUS_DIR}/log/slurmctld_stdout.log \\\n",
    "            -odbd ${CLUS_DIR}/log/slurmdbd_stdout.out \\\n",
    "            -r ${CLUS_DIR}/results/${MACHINE_NAME}/${RUN_NAME}/dtstart_${dtstart}_${replica} -d -v \\\n",
    "            -dtstart $dtstart "
   ]
  },
  {
   "cell_type": "code",
   "execution_count": 35,
   "id": "416574e6-aeaf-4fe6-bfc3-446aeea87d05",
   "metadata": {},
   "outputs": [
    {
     "name": "stderr",
     "output_type": "stream",
     "text": [
      "UsageError: Cell magic `%%r` not found.\n"
     ]
    }
   ],
   "source": [
    "%%r Copy log"
   ]
  },
  {
   "cell_type": "code",
   "execution_count": 29,
   "id": "4b5302c5-6969-4bca-9db2-83937e4e2d16",
   "metadata": {},
   "outputs": [
    {
     "name": "stdout",
     "output_type": "stream",
     "text": [
      "  157 python\n",
      " 4995 bash\n",
      " 4997 ps\n"
     ]
    }
   ],
   "source": [
    "%%bash\n",
    "ps -o pid,comm  --no-headers"
   ]
  },
  {
   "cell_type": "markdown",
   "id": "a03a856f-5075-4ac4-ac5f-586f80388c67",
   "metadata": {},
   "source": [
    "## (Advanced) Debugging 2\n",
    "\n",
    "Sometimes you would get an error which is very hard to guess what exactly it mean.\n",
    "One way to debug is to look into slurm code itself with gdb.\n",
    "Launch `slurmsim` with `-nc` argument which will do all nessesary setup but the slurmctrld would not launch.\n",
    "After `slurmsim` tells you that you can start `slurmctrld` manually.\n",
    "Launch it with `gdb`, use `slurmctrld` from `/opt/slurm_sim_deb` and set `SLURM_CONF` to `${CLUS_DIR}/etc/slurm.conf`.\n",
    "You can use Eclipse IDE packaged with this docker."
   ]
  },
  {
   "cell_type": "code",
   "execution_count": null,
   "id": "3a0226a6-95f2-4708-aab3-672426d3e330",
   "metadata": {
    "scrolled": true
   },
   "outputs": [
    {
     "name": "stdout",
     "output_type": "stream",
     "text": [
      "Logger initialization\n",
      "[\u001B[1;92mINFO\u001B[1;0m] Note: NumExpr detected 16 cores but \"NUMEXPR_MAX_THREADS\" not set, so enforcing safe limit of 8.\n",
      "[\u001B[1;92mINFO\u001B[1;0m] NumExpr defaulting to 8 threads.\n",
      "[\u001B[1;92mINFO\u001B[1;0m] Read from /home/jovyan/work/micro_cluster/job_traces/small.events 20 even ts\n",
      "[\u001B[1;92mINFO\u001B[1;0m] slurm.conf: /home/jovyan/work/micro_cluster/etc/slurm.conf\n",
      "[\u001B[1;92mINFO\u001B[1;0m] slurmdbd: /opt/slurm_sim_deb/sbin/slurmdbd\n",
      "[\u001B[1;92mINFO\u001B[1;0m] slurmd: /opt/slurm_sim_deb/sbin/slurmd\n",
      "[\u001B[1;92mINFO\u001B[1;0m] slurmctld: /opt/slurm_sim_deb/sbin/slurmctld\n",
      "[\u001B[1;92mINFO\u001B[1;0m] dropping db from previous runs\n",
      "DROP DATABASE IF EXISTS slurmdb_micro3\n",
      "[\u001B[1;92mINFO\u001B[1;0m] deleting previous SlurmdbdLogFile file: /home/jovyan/work/micro_cluster/log/slurmdbd.log\n",
      "[\u001B[1;92mINFO\u001B[1;0m] deleting previous results dir: /home/jovyan/work/micro_cluster/results/slurmsimcont/test1/dtstart_59_1\n",
      "[\u001B[1;92mINFO\u001B[1;0m] Launching slurmdbd\n",
      "[\u001B[1;92mINFO\u001B[1;0m] Running sacctmgr script from /home/jovyan/work/micro_cluster/etc/sacctmgr.script\n"
     ]
    },
    {
     "name": "stderr",
     "output_type": "stream",
     "text": [
      "sacctmgr: error: slurm_persist_conn_open_without_init: failed to open persistent connection to host:localhost:6819: Connection refused\n",
      "sacctmgr: error: Sending PersistInit msg: Connection refused\n"
     ]
    },
    {
     "name": "stdout",
     "output_type": "stream",
     "text": [
      "sacctmgr: sacctmgr: sacctmgr: sacctmgr: sacctmgr: sacctmgr: sacctmgr: sacctmgr: sacctmgr: sacctmgr: sacctmgr: sacctmgr: sacctmgr: sacctmgr: sacctmgr: sacctmgr: sacctmgr: sacctmgr: sacctmgr: sacctmgr: sacctmgr: sacctmgr: sacctmgr: \n",
      "[\u001B[1;92mINFO\u001B[1;0m] Current time 1709841181.0035274\n",
      "[\u001B[1;92mINFO\u001B[1;0m] slurmdbd_create_time=1709841173.47\n",
      "[\u001B[1;92mINFO\u001B[1;0m] slurmd_create_time=1709841179.48\n",
      "[\u001B[1;92mINFO\u001B[1;0m] Starting job submittion\n"
     ]
    }
   ],
   "source": [
    "%%bash\n",
    "export SLURM_SIM_DIR=/opt/slurm_sim_deb\n",
    "export CLUS_DIR=$(pwd)\n",
    "export MACHINE_NAME=\"slurmsimcont\"\n",
    "export RUN_NAME=\"test1\"\n",
    "export workload=${CLUS_DIR}/job_traces/small.events\n",
    "export dtstart=59\n",
    "export replica=1\n",
    "\n",
    "slurmsim -v run_sim  \\\n",
    "            -s $SLURM_SIM_DIR \\\n",
    "            -e ${CLUS_DIR}/etc \\\n",
    "            -a ${CLUS_DIR}/etc/sacctmgr.script \\\n",
    "            -t ${workload} \\\n",
    "            -r ${CLUS_DIR}/results/${MACHINE_NAME}/${RUN_NAME}/dtstart_${dtstart}_${replica} -d -v \\\n",
    "            -octld ${CLUS_DIR}/results/${MACHINE_NAME}/${RUN_NAME}/dtstart_${dtstart}_${replica}_ctld.out \\\n",
    "            -odbd ${CLUS_DIR}/results/${MACHINE_NAME}/${RUN_NAME}/dtstart_${dtstart}_${replica}_dbd.out \\\n",
    "            -dtstart $dtstart -nc"
   ]
  },
  {
   "cell_type": "markdown",
   "id": "d913de49-375c-4bd1-88f7-97b4e8bc825b",
   "metadata": {},
   "source": [
    "work/micro_cluster/results/slurmsimcont/test1/dtstart_59_1_ctld.out\n",
    "work/micro_cluster/results/slurmsimcont/test1/dtstart_59_1_dbd.out"
   ]
  },
  {
   "cell_type": "code",
   "execution_count": 16,
   "id": "36d9af19-4760-401b-b693-fcceb987bcc6",
   "metadata": {},
   "outputs": [],
   "source": [
    "import os"
   ]
  },
  {
   "cell_type": "code",
   "execution_count": 23,
   "id": "1aff105e-715e-46fd-9311-2e92fadc7a51",
   "metadata": {},
   "outputs": [],
   "source": [
    "import pwd\n",
    "import subprocess\n",
    "uid = os.getuid()\n",
    "user = pwd.getpwuid(uid)"
   ]
  },
  {
   "cell_type": "code",
   "execution_count": 19,
   "id": "4af7cc43-ea96-469a-8e9a-db0442f183eb",
   "metadata": {},
   "outputs": [
    {
     "data": {
      "text/plain": [
       "pwd.struct_passwd(pw_name='jovyan', pw_passwd='x', pw_uid=1000, pw_gid=100, pw_gecos='', pw_dir='/home/jovyan', pw_shell='/bin/bash')"
      ]
     },
     "execution_count": 19,
     "metadata": {},
     "output_type": "execute_result"
    }
   ],
   "source": [
    "user"
   ]
  },
  {
   "cell_type": "code",
   "execution_count": 21,
   "id": "d60722c4-e3e7-4e5a-892d-555c5db3d84b",
   "metadata": {},
   "outputs": [
    {
     "name": "stdout",
     "output_type": "stream",
     "text": [
      "[100] 100\n"
     ]
    }
   ],
   "source": [
    "gl = os.getgrouplist(user.pw_name, user.pw_gid)\n",
    "print(gl,user.pw_gid)"
   ]
  },
  {
   "cell_type": "code",
   "execution_count": 26,
   "id": "cfff7077-9e0f-4f3f-8f8a-d8731a51b70d",
   "metadata": {},
   "outputs": [
    {
     "data": {
      "text/plain": [
       "'users'"
      ]
     },
     "execution_count": 26,
     "metadata": {},
     "output_type": "execute_result"
    }
   ],
   "source": [
    "subprocess.check_output(['id', '-g', '-n']).decode(\"utf-8\").strip()"
   ]
  },
  {
   "cell_type": "code",
   "execution_count": 30,
   "id": "ae7b99b2-6417-4a4e-b749-0c31af9d4c1c",
   "metadata": {},
   "outputs": [],
   "source": [
    "os.environ.get('USER')"
   ]
  },
  {
   "cell_type": "code",
   "execution_count": 32,
   "id": "00ba1589-8d24-46fd-9b84-e278901248a4",
   "metadata": {},
   "outputs": [
    {
     "data": {
      "text/plain": [
       "'jovyan'"
      ]
     },
     "execution_count": 32,
     "metadata": {},
     "output_type": "execute_result"
    }
   ],
   "source": [
    "subprocess.check_output(['id', '-u', '-n']).decode(\"utf-8\").strip()"
   ]
  },
  {
   "cell_type": "code",
   "execution_count": 47,
   "id": "fb3fa1b4-f706-4d67-ae55-558688bed5eb",
   "metadata": {},
   "outputs": [
    {
     "name": "stdout",
     "output_type": "stream",
     "text": [
      "jovyan   29608 29605  0 21:22 ?        00:00:00 grep slurmdbd\n"
     ]
    }
   ],
   "source": [
    "%%bash\n",
    "kill -9 29414\n",
    "ps -Af|grep slurmdbd"
   ]
  },
  {
   "cell_type": "code",
   "execution_count": null,
   "id": "59e55c3f-fcc8-4462-b3b1-c12969ec48f1",
   "metadata": {},
   "outputs": [],
   "source": []
  }
 ],
 "metadata": {
  "kernelspec": {
   "display_name": "Python 3 (ipykernel)",
   "language": "python",
   "name": "python3"
  },
  "language_info": {
   "codemirror_mode": {
    "name": "ipython",
    "version": 3
   },
   "file_extension": ".py",
   "mimetype": "text/x-python",
   "name": "python",
   "nbconvert_exporter": "python",
   "pygments_lexer": "ipython3",
   "version": "3.11.6"
  }
 },
 "nbformat": 4,
 "nbformat_minor": 5
}

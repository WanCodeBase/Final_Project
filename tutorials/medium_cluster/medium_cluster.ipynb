{
 "cells": [
  {
   "cell_type": "markdown",
   "id": "59fa6695-acd7-4132-9bea-05db9861ba93",
   "metadata": {},
   "source": [
    "### Adopting the Slurm Configuration for Simulation\n",
    "\n",
    "The simulator is built from Slurm code and uses regular Slurm configuration.\n",
    "\n",
    "In `etc` directory you can find several Slurm configuration files that were used in Virtual Clusters (actual unmodified Slurm installation where each compute node is represented as docker container).\n",
    "\n",
    "First, we need to modify it for the simulation purposes.\n",
    "\n",
    "The Slurm configuration files:\n",
    "* `slurm.conf`\n",
    "* `topology.conf`\n",
    "* `gres.conf`\n",
    "* `slurmdbd.conf`"
   ]
  },
  {
   "cell_type": "code",
   "execution_count": null,
   "id": "e0f9e995-8455-4b11-908b-58263d7edb1e",
   "metadata": {},
   "outputs": [],
   "source": []
  },
  {
   "cell_type": "code",
   "execution_count": null,
   "id": "4cc59d69-dd0c-4a29-a1f6-07199d8c21ec",
   "metadata": {},
   "outputs": [],
   "source": []
  },
  {
   "cell_type": "code",
   "execution_count": null,
   "id": "c08b5991-788c-44cf-9985-33d2d89cd807",
   "metadata": {},
   "outputs": [],
   "source": []
  }
 ],
 "metadata": {
  "kernelspec": {
   "display_name": "Python 3 (ipykernel)",
   "language": "python",
   "name": "python3"
  },
  "language_info": {
   "codemirror_mode": {
    "name": "ipython",
    "version": 3
   },
   "file_extension": ".py",
   "mimetype": "text/x-python",
   "name": "python",
   "nbconvert_exporter": "python",
   "pygments_lexer": "ipython3",
   "version": "3.11.6"
  }
 },
 "nbformat": 4,
 "nbformat_minor": 5
}
